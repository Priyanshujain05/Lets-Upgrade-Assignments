{
 "cells": [
  {
   "cell_type": "code",
   "execution_count": 13,
   "metadata": {},
   "outputs": [
    {
     "name": "stdout",
     "output_type": "stream",
     "text": [
      "3\n",
      "abcdacba\n",
      "3\n",
      "DDCBD\n"
     ]
    }
   ],
   "source": [
    "string = \"ABCDACBA\"\n",
    "# 5 Different methods of string\n",
    "# 1\n",
    "print(string.index(\"D\"))\n",
    "# 2\n",
    "print(string.lower())\n",
    "# 3\n",
    "x = string.count(\"A\")\n",
    "print(x)\n",
    "# 4, 5\n",
    "str1 = string[3:].replace(\"A\",\"D\",x-1)\n",
    "print(str1)"
   ]
  },
  {
   "cell_type": "code",
   "execution_count": 52,
   "metadata": {},
   "outputs": [
    {
     "name": "stdout",
     "output_type": "stream",
     "text": [
      "[0, 4, 16, 36, 64]\n",
      "[1, 9, 25, 49, 81]\n",
      "[0, 4, 16, 36, 64, 1, 9, 25, 49, 81]\n",
      "81\n",
      "[0, 1, 4, 9, 16, 25, 36, 49, 64]\n",
      "[64, 49, 36, 25, 16, 9, 4, 1, 0]\n"
     ]
    }
   ],
   "source": [
    "# 5 Different methods of list\n",
    "lst1 =[]\n",
    "# 1\n",
    "for i in range(0,9,2):\n",
    "    lst1.insert(i, i**2)\n",
    "\n",
    "lst2 = []\n",
    "for i in range(1,10,2):\n",
    "    lst2.insert(i , i**2)\n",
    "print (lst1)\n",
    "print(lst2)\n",
    "\n",
    "# 2\n",
    "lst3 = lst1 + lst2\n",
    "print(lst3)\n",
    "\n",
    "# 3\n",
    "print(lst3.pop(-1))\n",
    "# 4\n",
    "lst3.sort()\n",
    "print(lst3)\n",
    "\n",
    "# 5\n",
    "lst3.reverse()\n",
    "print(lst3)\n"
   ]
  },
  {
   "cell_type": "code",
   "execution_count": 76,
   "metadata": {},
   "outputs": [
    {
     "name": "stdout",
     "output_type": "stream",
     "text": [
      "{'Fname': 'Priyanshu', 'Lname': 'Jain', 'Age': 20}\n",
      "{'Fname': 'Mr.Priyanshu', 'Lname': 'Jain', 'Age': 20}\n",
      "20\n",
      "this key does not exists\n",
      "dict_values(['Mr.Priyanshu', 'Jain', 20])\n",
      "dict_keys(['Fname', 'Lname', 'Age'])\n",
      "{}\n"
     ]
    }
   ],
   "source": [
    "# 5 Different methods of dict\n",
    "dict = {}\n",
    "dict = {'Fname': 'Priyanshu', 'Lname': 'Jain' , 'Age': 20 }\n",
    "print(dict)\n",
    "# 1\n",
    "dict.update({\"Fname\" : \"Mr.Priyanshu\"})\n",
    "print(dict)\n",
    "\n",
    "# 2\n",
    "print(dict.get('Age'))\n",
    "\n",
    "print(dict.get('age','this key does not exists'))\n",
    "# 3\n",
    "dict.items()\n",
    "# 4\n",
    "print(dict.values())\n",
    "print(dict.keys())\n",
    "# 5\n",
    "dict.clear()\n",
    "print(dict)"
   ]
  },
  {
   "cell_type": "code",
   "execution_count": null,
   "metadata": {},
   "outputs": [],
   "source": []
  },
  {
   "cell_type": "code",
   "execution_count": null,
   "metadata": {},
   "outputs": [],
   "source": []
  },
  {
   "cell_type": "code",
   "execution_count": null,
   "metadata": {},
   "outputs": [],
   "source": []
  }
 ],
 "metadata": {
  "kernelspec": {
   "display_name": "Python 3",
   "language": "python",
   "name": "python3"
  },
  "language_info": {
   "codemirror_mode": {
    "name": "ipython",
    "version": 3
   },
   "file_extension": ".py",
   "mimetype": "text/x-python",
   "name": "python",
   "nbconvert_exporter": "python",
   "pygments_lexer": "ipython3",
   "version": "3.8.0"
  }
 },
 "nbformat": 4,
 "nbformat_minor": 4
}
