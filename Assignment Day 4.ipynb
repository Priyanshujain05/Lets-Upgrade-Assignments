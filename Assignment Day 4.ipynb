{
 "cells": [
  {
   "cell_type": "code",
   "execution_count": 13,
   "metadata": {},
   "outputs": [],
   "source": [
    " # Opening a file and writing\n",
    "op = open(\"Assignment.txt\",'w')\n",
    "op.write(\"I Love LetsUpgrade\")\n",
    "op.close()\n",
    "#opening and appending to it\n",
    "op = open(\"Assignment.txt\" , 'r')\n",
    "prnt = op.read()\n",
    "#print(prnt)\n",
    "op = open(\"Assignment.txt\",'a')\n",
    "op.write(\". I just need to append something and i dont know what to write so i wrote this ;-)\")\n",
    "op.close()"
   ]
  },
  {
   "cell_type": "code",
   "execution_count": 27,
   "metadata": {},
   "outputs": [
    {
     "name": "stdout",
     "output_type": "stream",
     "text": [
      "5\n",
      "120\n"
     ]
    }
   ],
   "source": [
    "#A function for factorial\n",
    "def fact(integer):\n",
    "    fact1 = 1\n",
    "    for i in range(1,x+1):\n",
    "        fact1 = fact1*i\n",
    "    return fact1\n",
    "x = int(input())\n",
    "result = fact(x)\n",
    "print(result)"
   ]
  }
 ],
 "metadata": {
  "kernelspec": {
   "display_name": "Python 3",
   "language": "python",
   "name": "python3"
  },
  "language_info": {
   "codemirror_mode": {
    "name": "ipython",
    "version": 3
   },
   "file_extension": ".py",
   "mimetype": "text/x-python",
   "name": "python",
   "nbconvert_exporter": "python",
   "pygments_lexer": "ipython3",
   "version": "3.8.0"
  }
 },
 "nbformat": 4,
 "nbformat_minor": 4
}
